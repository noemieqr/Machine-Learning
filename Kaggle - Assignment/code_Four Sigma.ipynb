{
 "cells": [
  {
   "cell_type": "markdown",
   "metadata": {},
   "source": [
    "# ---- 0. PACKAGES"
   ]
  },
  {
   "cell_type": "code",
   "execution_count": 3,
   "metadata": {},
   "outputs": [
    {
     "name": "stderr",
     "output_type": "stream",
     "text": [
      "/Users/sarahlina/Documents/Documents/Dev/anaconda2/lib/python2.7/site-packages/ggplot/utils.py:81: FutureWarning: pandas.tslib is deprecated and will be removed in a future version.\n",
      "You can access Timestamp as pandas.Timestamp\n",
      "  pd.tslib.Timestamp,\n",
      "/Users/sarahlina/Documents/Documents/Dev/anaconda2/lib/python2.7/site-packages/ggplot/stats/smoothers.py:4: FutureWarning: The pandas.lib module is deprecated and will be removed in a future version. These are private functions and can be accessed from pandas._libs.lib instead\n",
      "  from pandas.lib import Timestamp\n",
      "/Users/sarahlina/Documents/Documents/Dev/anaconda2/lib/python2.7/site-packages/statsmodels/compat/pandas.py:56: FutureWarning: The pandas.core.datetools module is deprecated and will be removed in a future version. Please use the pandas.tseries module instead.\n",
      "  from pandas.core import datetools\n",
      "/Users/sarahlina/Documents/Documents/Dev/anaconda2/lib/python2.7/site-packages/sklearn/cross_validation.py:41: DeprecationWarning: This module was deprecated in version 0.18 in favor of the model_selection module into which all the refactored classes and functions are moved. Also note that the interface of the new CV iterators are different from that of this module. This module will be removed in 0.20.\n",
      "  \"This module will be removed in 0.20.\", DeprecationWarning)\n",
      "/Users/sarahlina/Documents/Documents/Dev/anaconda2/lib/python2.7/site-packages/sklearn/grid_search.py:42: DeprecationWarning: This module was deprecated in version 0.18 in favor of the model_selection module into which all the refactored classes and functions are moved. This module will be removed in 0.20.\n",
      "  DeprecationWarning)\n"
     ]
    }
   ],
   "source": [
    "import numpy as np\n",
    "import pandas as pd\n",
    "import csv as csv\n",
    "import random as rd\n",
    "import re\n",
    "\n",
    "import seaborn as sns\n",
    "from ggplot import *\n",
    "from matplotlib import pyplot as plt\n",
    "%matplotlib inline\n",
    "import matplotlib\n",
    "matplotlib.style.use('ggplot')\n",
    "\n",
    "from sklearn.utils import check_random_state\n",
    "import time\n",
    "\n",
    "from sklearn import cross_validation\n",
    "from sklearn.cross_validation import StratifiedKFold,cross_val_score\n",
    "from sklearn.cross_validation  import train_test_split\n",
    "\n",
    "from sklearn.feature_selection import SelectKBest\n",
    "from sklearn.preprocessing import StandardScaler  \n",
    "\n",
    "from sklearn.grid_search import GridSearchCV\n",
    "from sklearn.cluster import KMeans\n",
    "from sklearn import preprocessing\n",
    "\n",
    "from sklearn import svm\n",
    "from sklearn.ensemble import RandomForestClassifier, VotingClassifier , AdaBoostClassifier\n",
    "from sklearn import linear_model\n",
    "from sklearn.neural_network import MLPClassifier\n",
    "from sklearn.tree import DecisionTreeClassifier\n",
    "from sklearn.neighbors import KNeighborsClassifier\n",
    "import xgboost as xgb\n",
    "\n",
    "from sklearn.ensemble.gradient_boosting import GradientBoostingClassifier\n",
    "from sklearn.pipeline import make_pipeline"
   ]
  },
  {
   "cell_type": "markdown",
   "metadata": {},
   "source": [
    "# ---- 1. DATA VISUALIZATION"
   ]
  },
  {
   "cell_type": "code",
   "execution_count": 2,
   "metadata": {
    "collapsed": true
   },
   "outputs": [],
   "source": [
    "train = pd.read_csv('Data/train.csv',sep=';')\n",
    "test = pd.read_csv('Data/test.csv',sep=';')"
   ]
  },
  {
   "cell_type": "markdown",
   "metadata": {},
   "source": [
    "### Sex vs Survival"
   ]
  },
  {
   "cell_type": "code",
   "execution_count": 3,
   "metadata": {},
   "outputs": [
    {
     "name": "stderr",
     "output_type": "stream",
     "text": [
      "/Users/sarahlina/Documents/Documents/Dev/anaconda2/lib/python2.7/site-packages/matplotlib/legend.py:634: UserWarning: Legend does not support 'D' instances.\n",
      "A proxy artist may be used instead.\n",
      "See: http://matplotlib.org/users/legend_guide.html#using-proxy-artist\n",
      "  \"#using-proxy-artist\".format(orig_handle)\n",
      "/Users/sarahlina/Documents/Documents/Dev/anaconda2/lib/python2.7/site-packages/matplotlib/legend.py:634: UserWarning: Legend does not support 'e' instances.\n",
      "A proxy artist may be used instead.\n",
      "See: http://matplotlib.org/users/legend_guide.html#using-proxy-artist\n",
      "  \"#using-proxy-artist\".format(orig_handle)\n",
      "/Users/sarahlina/Documents/Documents/Dev/anaconda2/lib/python2.7/site-packages/matplotlib/legend.py:634: UserWarning: Legend does not support 'a' instances.\n",
      "A proxy artist may be used instead.\n",
      "See: http://matplotlib.org/users/legend_guide.html#using-proxy-artist\n",
      "  \"#using-proxy-artist\".format(orig_handle)\n",
      "/Users/sarahlina/Documents/Documents/Dev/anaconda2/lib/python2.7/site-packages/matplotlib/legend.py:634: UserWarning: Legend does not support 'd' instances.\n",
      "A proxy artist may be used instead.\n",
      "See: http://matplotlib.org/users/legend_guide.html#using-proxy-artist\n",
      "  \"#using-proxy-artist\".format(orig_handle)\n"
     ]
    },
    {
     "data": {
      "image/png": "[encoded data removed]",
      "text/plain": [
       "<matplotlib.figure.Figure at 0x1054f5810>"
      ]
     },
     "metadata": {},
     "output_type": "display_data"
    }
   ],
   "source": [
    "female = train[train['Sex']=='female']['Survived'].value_counts()\n",
    "male = train[train['Sex']=='male']['Survived'].value_counts()\n",
    "\n",
    "sex_split = pd.DataFrame([female,male])\n",
    "sex_split.index = ['Female','Male']\n",
    "sex_split.plot(kind='barh',stacked=True, color = ['#CD5C5C', '#59656d'], figsize=(10,4), label=(\"Dead\", \"Survived\"))\n",
    "plt.legend(\"Dead\", \"Survived\", loc=\"upper left\")\n",
    "plt.show()"
   ]
  },
  {
   "cell_type": "markdown",
   "metadata": {},
   "source": [
    "### Variable visualization"
   ]
  },
  {
   "cell_type": "code",
   "execution_count": null,
   "metadata": {},
   "outputs": [],
   "source": [
    "train.plot(kind='density', subplots=True, layout=(4,2),figsize=(10,10), sharex=False)\n",
    "plt.show()"
   ]
  },
  {
   "cell_type": "markdown",
   "metadata": {},
   "source": [
    "### Correlation matrix"
   ]
  },
  {
   "cell_type": "code",
   "execution_count": null,
   "metadata": {
    "collapsed": true
   },
   "outputs": [],
   "source": [
    "corr = train.corr()\n",
    "corr = (corr)\n",
    "plt.figure(figsize= (10,5))\n",
    "corr_heatmap = sns.heatmap(corr, xticklabels=corr.columns.values, yticklabels=corr.columns.values)\n",
    "plt.show()"
   ]
  },
  {
   "cell_type": "markdown",
   "metadata": {},
   "source": [
    "### Sex vs Survival"
   ]
  },
  {
   "cell_type": "code",
   "execution_count": null,
   "metadata": {
    "collapsed": true
   },
   "outputs": [],
   "source": [
    "survived_label = 'survived'\n",
    "dead_label = 'dead'\n",
    "fig, ax = plt.subplots(figsize=(5,3))\n",
    "ax = sns.distplot(train[train['Survived']==1].Age.dropna(), bins=20, label = survived_label, ax = ax)\n",
    "ax = sns.distplot(train[train['Survived']==0].Age.dropna(), bins=20, label = dead_label, ax = ax, color ='#59656d')\n",
    "ax.legend()\n",
    "\n",
    "fig, axes = plt.subplots(nrows=1, ncols=2,figsize=(10, 4))\n",
    "female = train[train['Sex']=='female']\n",
    "male = train[train['Sex']=='male']\n",
    "\n",
    "ax = sns.distplot(female[female['Survived']==1].Age.dropna(), bins=30, label = survived_label, ax = axes[0],color = '#f7879a', kde =False)\n",
    "ax = sns.distplot(female[female['Survived']==0].Age.dropna(), bins=30, label = dead_label, ax = axes[0], color = '#59656d', kde =False)\n",
    "ax.legend()\n",
    "ax.set_title('Female')\n",
    "ax = sns.distplot(male[male['Survived']==1].Age.dropna(), bins=30, label = survived_label, ax = axes[1],color = '#0804f9',kde =False)\n",
    "ax = sns.distplot(male[male['Survived']==0].Age.dropna(), bins=30, label = dead_label, ax = axes[1],color = '#436bad',kde =False)\n",
    "ax.legend()\n",
    "_ = ax.set_title('Male')\n",
    "plt.show()"
   ]
  },
  {
   "cell_type": "markdown",
   "metadata": {},
   "source": [
    "### Fare vs Survival"
   ]
  },
  {
   "cell_type": "code",
   "execution_count": null,
   "metadata": {
    "collapsed": true
   },
   "outputs": [],
   "source": [
    "survived_label = 'survived'\n",
    "dead_label = 'dead'\n",
    "\n",
    "p1=sns.kdeplot(train[train['Survived']==1]['Fare'],label = survived_label, shade=True, color='#CD5C5C', )\n",
    "p1=sns.kdeplot(train[train['Survived']==0]['Fare'], label = dead_label,shade=True, color='#59656d')\n",
    "plt.xlabel('Fare')\n",
    "plt.ylabel('Number of passengers')\n",
    "plt.show()"
   ]
  },
  {
   "cell_type": "markdown",
   "metadata": {},
   "source": [
    "### Age vs Fare vs Survival"
   ]
  },
  {
   "cell_type": "code",
   "execution_count": null,
   "metadata": {
    "collapsed": true
   },
   "outputs": [],
   "source": [
    "plt.figure(figsize=(15,8))\n",
    "ax = plt.subplot()\n",
    "ax.scatter(train[train['Survived']==1]['Age'],train[train['Survived']==1]['Fare'],c='#CD5C5C',s=40)\n",
    "ax.scatter(train[train['Survived']==0]['Age'],train[train['Survived']==0]['Fare'],c='#59656d',s=40)\n",
    "ax.set_xlabel('Age')\n",
    "ax.set_ylabel('Fare')\n",
    "ax.legend(('survived','dead'),scatterpoints=1,loc='upper right',fontsize=10)\n",
    "plt.show()"
   ]
  },
  {
   "cell_type": "markdown",
   "metadata": {},
   "source": [
    "### Average fare vs Class"
   ]
  },
  {
   "cell_type": "code",
   "execution_count": null,
   "metadata": {
    "collapsed": true
   },
   "outputs": [],
   "source": [
    "ax = sns.boxplot(x=\"Pclass\", y=\"Fare\", hue=\"Survived\", palette=['#CD5C5C','#59656d'], data=train)\n",
    "ax.set_yscale('log')\n",
    "plt.show()"
   ]
  },
  {
   "cell_type": "markdown",
   "metadata": {},
   "source": [
    "### Embarked vs Survival"
   ]
  },
  {
   "cell_type": "code",
   "execution_count": null,
   "metadata": {
    "collapsed": true
   },
   "outputs": [],
   "source": [
    "tab = pd.crosstab(train['Embarked'],train['Survived'])\n",
    "print(tab)\n",
    "plt.figure(figsize=(12,6))\n",
    "tab_prop = tab.div(tab.sum(1).astype(float), axis=0)\n",
    "tab_prop.plot(kind=\"bar\", stacked=True, colors= ['#CD5C5C', '#59656d'])\n",
    "plt.show()"
   ]
  },
  {
   "cell_type": "markdown",
   "metadata": {},
   "source": [
    "# ---- 2. LOADING DATA"
   ]
  },
  {
   "cell_type": "code",
   "execution_count": 4,
   "metadata": {
    "collapsed": true
   },
   "outputs": [],
   "source": [
    "# We are going to perform several modifications, and we need to apply these modifications on both train set and test \n",
    "# set in order to have the same features at the end. The function \"concat_data\" concatenates the train and the sets \n",
    "# together, saving the target feature \"Survived\" from the train file into another variable.\n",
    "\n",
    "\n",
    "def concat_data():\n",
    "\n",
    "    train = pd.read_csv('Data/train.csv',sep=';')\n",
    "    test = pd.read_csv('Data/test.csv',sep=';')\n",
    "\n",
    "    target = train.Survived\n",
    "    \n",
    "    all_data = train.append(test)\n",
    "    all_data.reset_index(inplace=True)\n",
    "    all_data.drop('index', inplace=True, axis=1)\n",
    "    \n",
    "    return all_data, target"
   ]
  },
  {
   "cell_type": "code",
   "execution_count": 5,
   "metadata": {
    "collapsed": true
   },
   "outputs": [],
   "source": [
    "data, target = concat_data()"
   ]
  },
  {
   "cell_type": "markdown",
   "metadata": {},
   "source": [
    "# ---- 3. DATA PREPROCESSING (cleaning and feature engineering)"
   ]
  },
  {
   "cell_type": "markdown",
   "metadata": {},
   "source": [
    "## 3.1/ Using the feature \"Name\""
   ]
  },
  {
   "cell_type": "markdown",
   "metadata": {},
   "source": [
    "### Social titles"
   ]
  },
  {
   "cell_type": "code",
   "execution_count": 6,
   "metadata": {},
   "outputs": [],
   "source": [
    "# The \"Name\" feature contains a part about the title of every passenger, it can be interesting to keep only the title\n",
    "data['Title']=data['Name'].str.split(', ').str[1].str.split('.').str[0]\n",
    "\n",
    "def social_titles(x):\n",
    "    title=x['Title']\n",
    "    if title in ['Capt','Col','Major','Dr','Rev']:\n",
    "        return '1'\n",
    "    elif title in ['Jonkheer','Don','Sir','the Countess','Dona','Lady']:\n",
    "        return '2'\n",
    "    elif title in ['Mme','Ms','Mrs']:\n",
    "        return '3'\n",
    "    elif title in ['Mlle','Miss']:\n",
    "        return '4'\n",
    "    elif title=='Mr':\n",
    "        return '5'\n",
    "    elif title=='Master':\n",
    "        return '6'\n",
    "    else:\n",
    "        return title\n"
   ]
  },
  {
   "cell_type": "code",
   "execution_count": 7,
   "metadata": {
    "collapsed": true
   },
   "outputs": [],
   "source": [
    "data['TitleCat']=data.apply(social_titles, axis=1)"
   ]
  },
  {
   "cell_type": "markdown",
   "metadata": {},
   "source": [
    "### Marital status"
   ]
  },
  {
   "cell_type": "code",
   "execution_count": 8,
   "metadata": {},
   "outputs": [],
   "source": [
    "# The \"Name\" feature contains a part about the title of every passenger, it can be interesting to keep only the title\n",
    "# and use it to create a new feature : the marital status\n",
    "data['Marital']=data['Name'].str.split(', ').str[1].str.split('.').str[0]\n",
    "\n",
    "def marital_status(x):\n",
    "    title=x['Title']\n",
    "    if title in ['Capt','Col','Major','Jonkheer','Sir','Mr','Master','Don','Dr','Rev']:\n",
    "        return 'Mr'\n",
    "    elif title in ['Mme','the Countess','Dona','Lady','Ms','Mrs']:\n",
    "        return 'Mrs'\n",
    "    elif title in ['Mlle','Miss']:\n",
    "        return 'Miss'\n",
    "    else:\n",
    "        return title    \n",
    "\n",
    "data['Marital']=data.apply(marital_status, axis=1)"
   ]
  },
  {
   "cell_type": "markdown",
   "metadata": {},
   "source": [
    "###  Married"
   ]
  },
  {
   "cell_type": "code",
   "execution_count": 9,
   "metadata": {
    "collapsed": true
   },
   "outputs": [],
   "source": [
    "data['Family_name']=data['Name'].str.split(',').str[0]"
   ]
  },
  {
   "cell_type": "code",
   "execution_count": 10,
   "metadata": {
    "collapsed": true
   },
   "outputs": [],
   "source": [
    "data['Married']=np.zeros(len(data))\n",
    "\n",
    "idx_mrs=data.loc[(data['Marital']=='Mrs') & (data['Sex']=='female')].index\n",
    "names=data.loc[idx_mrs,'Family_name'].values\n",
    "idx_mr=data.loc[(data['Family_name'].isin(names)) & (data['Sex']=='male') & (data['Age']>18)].index\n",
    "\n",
    "data.loc[idx_mr,'Married']=1\n",
    "data.loc[idx_mrs,'Married']=1"
   ]
  },
  {
   "cell_type": "markdown",
   "metadata": {},
   "source": [
    "###  Name Lenght"
   ]
  },
  {
   "cell_type": "code",
   "execution_count": 11,
   "metadata": {
    "collapsed": true
   },
   "outputs": [],
   "source": [
    "data['NameLength'] = data.Name.apply(lambda x: len(x))"
   ]
  },
  {
   "cell_type": "markdown",
   "metadata": {},
   "source": [
    "## 3.2/ Cabin"
   ]
  },
  {
   "cell_type": "code",
   "execution_count": 12,
   "metadata": {},
   "outputs": [
    {
     "name": "stderr",
     "output_type": "stream",
     "text": [
      "/Users/sarahlina/Documents/Documents/Dev/anaconda2/lib/python2.7/site-packages/ipykernel_launcher.py:6: FutureWarning: Categorical.from_array is deprecated, use Categorical instead\n",
      "  \n"
     ]
    }
   ],
   "source": [
    "# For missing values, we will inpute the value \"0\" \n",
    "data.Cabin.fillna('0', inplace=True)\n",
    "# We will keep only the first letter of the cabin\n",
    "# Since it is a qualitative variable, we affect a code\n",
    "\n",
    "data['CabinCat'] = pd.Categorical.from_array(data.Cabin.fillna('0').apply(lambda x: x[0])).codes\n"
   ]
  },
  {
   "cell_type": "markdown",
   "metadata": {},
   "source": [
    "## 3.3/ Family"
   ]
  },
  {
   "cell_type": "code",
   "execution_count": 13,
   "metadata": {
    "collapsed": true
   },
   "outputs": [],
   "source": [
    "# A new feature is created here : the size of the family\n",
    "data['Family_size'] = data['SibSp'] + data['Parch'] + 1"
   ]
  },
  {
   "cell_type": "markdown",
   "metadata": {},
   "source": [
    "## 3.4/ Fares"
   ]
  },
  {
   "cell_type": "markdown",
   "metadata": {},
   "source": [
    "#### Missing values"
   ]
  },
  {
   "cell_type": "code",
   "execution_count": 14,
   "metadata": {},
   "outputs": [],
   "source": [
    "# For missing values for \"Fare\" we replace by the median\n",
    "data.loc[data['Fare'].isnull(), 'Fare'] = np.median(data.Fare[data.Fare.notnull()])    \n"
   ]
  },
  {
   "cell_type": "markdown",
   "metadata": {},
   "source": [
    "## 3.5/  Tickets number"
   ]
  },
  {
   "cell_type": "code",
   "execution_count": 15,
   "metadata": {
    "collapsed": true
   },
   "outputs": [],
   "source": [
    "# The function \"extract_ticket\" returns the prefix of the feature \"Ticket\", if there's no prefix, it returns '---'.\n",
    "def extract_prefix(ticket):\n",
    "    ticket = ticket.replace('.','')\n",
    "    ticket = ticket.replace('/','')\n",
    "    ticket = ticket.split()\n",
    "    ticket = map(lambda t : t.strip(), ticket)\n",
    "    ticket = filter(lambda t : not t.isdigit(), ticket)\n",
    "    if len(ticket) > 0:\n",
    "        return ticket[0].upper()\n",
    "    else: \n",
    "        return '---'\n",
    "\n",
    "# As it is a qualitative variable we have to convert it into dummies\n",
    "data['Ticket'] = data['Ticket'].map(extract_prefix)\n",
    "tickets_dummies = pd.get_dummies(data['Ticket'], prefix='Ticket')\n",
    "data = pd.concat([data, tickets_dummies], axis=1)\n"
   ]
  },
  {
   "cell_type": "code",
   "execution_count": 16,
   "metadata": {
    "collapsed": true
   },
   "outputs": [],
   "source": [
    "data.drop(['Ticket'], axis=1, inplace=True)"
   ]
  },
  {
   "cell_type": "markdown",
   "metadata": {},
   "source": [
    "## 3.6/ Embarked"
   ]
  },
  {
   "cell_type": "code",
   "execution_count": 17,
   "metadata": {},
   "outputs": [
    {
     "name": "stderr",
     "output_type": "stream",
     "text": [
      "/Users/sarahlina/Documents/Documents/Dev/anaconda2/lib/python2.7/site-packages/ipykernel_launcher.py:9: FutureWarning: Categorical.from_array is deprecated, use Categorical instead\n",
      "  if __name__ == '__main__':\n"
     ]
    }
   ],
   "source": [
    "# For missing values for \"Embarked\", which is a qualitative feature, we use the most frequent character, store in \n",
    "# the variable 'char'.\n",
    "\n",
    "char=data['Embarked'].value_counts().sort_values(ascending=False).index[0]\n",
    "idx=data['Embarked'].loc[data['Embarked'].isnull()==True].index\n",
    "data.loc[idx,'Embarked']=char\n",
    "\n",
    "# As it is a qualitative variable, we perform a codification\n",
    "data['EmbarkedCat'] = pd.Categorical.from_array(data.Embarked).codes\n"
   ]
  },
  {
   "cell_type": "markdown",
   "metadata": {},
   "source": [
    "## 3.8/ Sex"
   ]
  },
  {
   "cell_type": "code",
   "execution_count": 18,
   "metadata": {
    "collapsed": true
   },
   "outputs": [],
   "source": [
    "# Transform 'Sex' feature into numeric levels, 0 for male and 1 for female \n",
    "idx_m=data.loc[data['Sex']=='male'].index\n",
    "idx_f=data.loc[data['Sex']=='female'].index\n",
    "\n",
    "data.loc[idx_m,'Sex']=0\n",
    "data.loc[idx_f,'Sex']=1\n",
    "\n",
    "data['Sex']=pd.to_numeric(data['Sex'])"
   ]
  },
  {
   "cell_type": "markdown",
   "metadata": {},
   "source": [
    "## 3.7/ Age"
   ]
  },
  {
   "cell_type": "markdown",
   "metadata": {},
   "source": [
    "### Missing values\n",
    "\n",
    "- As 'Age' might be very significant, a more sophisticated way to inpute missing values can be used. \n",
    "- Instead of replace by the mean of the whole dataset, we will use ExtraTreesRegressor which is a tree to predict the value of the age according to 'Fare','Parch','Pclass','SibSp','TitleCat','CabinCat','Sex', 'EmbarkedCat', 'Family_size', 'NameLength'"
   ]
  },
  {
   "cell_type": "code",
   "execution_count": 19,
   "metadata": {},
   "outputs": [],
   "source": [
    "from sklearn.ensemble import ExtraTreesRegressor\n",
    "\n",
    "\n",
    "classers = ['Fare','Parch','Pclass','SibSp','TitleCat','CabinCat','Sex', 'EmbarkedCat', 'Family_size', 'NameLength']\n",
    "\n",
    "age_et = ExtraTreesRegressor(n_estimators=200)\n",
    "\n",
    "X_train = data.loc[data.Age.notnull(),classers]\n",
    "Y_train = data.loc[data.Age.notnull(),['Age']]\n",
    "\n",
    "X_test = data.loc[data.Age.isnull(),classers]\n",
    "\n",
    "\n",
    "age_et.fit(X_train,np.ravel(Y_train))\n",
    "age_preds = age_et.predict(X_test)\n",
    "data.loc[data.Age.isnull(),['Age']] = age_preds"
   ]
  },
  {
   "cell_type": "markdown",
   "metadata": {},
   "source": [
    "### Categorization according to age and sex"
   ]
  },
  {
   "cell_type": "code",
   "execution_count": 20,
   "metadata": {},
   "outputs": [],
   "source": [
    "child_age = 14\n",
    "def get_person(passenger):\n",
    "    age, sex = passenger\n",
    "    if (age < child_age):\n",
    "        return 'child'\n",
    "    elif (sex == 1):\n",
    "        return 'female_adult'\n",
    "    else:\n",
    "        return 'male_adult'\n",
    "    \n",
    "data = pd.concat([data, pd.DataFrame(data[['Age', 'Sex']].apply(get_person, axis=1), columns=['person'])],axis=1)\n",
    "#We transform it in a dummie to make it numerica\n",
    "dummies = pd.get_dummies(data['person'])\n",
    "data = pd.concat([data,dummies],axis=1)"
   ]
  },
  {
   "cell_type": "markdown",
   "metadata": {},
   "source": [
    "## 3.3/ Persihing Females"
   ]
  },
  {
   "cell_type": "code",
   "execution_count": 21,
   "metadata": {},
   "outputs": [],
   "source": [
    "perishing_female_surnames = list(set(data[(data.female_adult == 1.0) &\n",
    "                                     (data.Survived == 0.0) &\n",
    "                                     ((data.Parch > 0) | (data.SibSp > 0))]['Family_name'].values))\n",
    "\n",
    "def perishing_mother_wife(passenger): \n",
    "    familyname, Pclass, person = passenger\n",
    "    return 1.0 if (familyname in perishing_female_surnames) else 0.0\n",
    "\n",
    "data['perishing_mother_wife'] = data[['Family_name', 'Pclass', 'person']].apply(perishing_mother_wife, axis=1)"
   ]
  },
  {
   "cell_type": "markdown",
   "metadata": {},
   "source": [
    "## 3.5/ Survivng Males"
   ]
  },
  {
   "cell_type": "code",
   "execution_count": 22,
   "metadata": {
    "collapsed": true
   },
   "outputs": [],
   "source": [
    "#### Survivng Males\n",
    "surviving_male_surnames = list(set(data[(data.male_adult == 1.0) &\n",
    "                                     (data.Survived == 1.0) &\n",
    "                                     ((data.Parch > 0) | (data.SibSp > 0))]['Family_name'].values))\n",
    "def surviving_father_husband(passenger): \n",
    "    familyname, Pclass, person = passenger\n",
    "    return 1.0 if (familyname in surviving_male_surnames) else 0.0\n",
    "\n",
    "data['surviving_father_husband'] = data[['Family_name', 'Pclass', 'person']].apply(surviving_father_husband, axis=1)"
   ]
  },
  {
   "cell_type": "markdown",
   "metadata": {},
   "source": [
    "## Delete the non useful features that have been used to create other more significant ones"
   ]
  },
  {
   "cell_type": "code",
   "execution_count": 23,
   "metadata": {},
   "outputs": [],
   "source": [
    "# Features like \"Name\", \"Family_name\" and \"Marital\" were used to create interesting features but may be not useful for\n",
    "# the modelling part\n",
    "data.drop('Marital',axis=1,inplace=True)\n",
    "data.drop('Family_name',axis=1,inplace=True)\n",
    "data.drop('Name',axis=1,inplace=True)\n",
    "data.drop('person',axis=1,inplace=True)\n",
    "data.drop('Cabin', axis=1, inplace=True)  \n",
    "data.drop('Embarked',axis=1,inplace=True)\n",
    "data.drop('Title',axis=1,inplace=True)\n",
    "data.drop('Survived',axis=1,inplace=True)\n"
   ]
  },
  {
   "cell_type": "markdown",
   "metadata": {},
   "source": [
    "## 3.10/ Verifications for missing values"
   ]
  },
  {
   "cell_type": "code",
   "execution_count": 24,
   "metadata": {
    "scrolled": true
   },
   "outputs": [
    {
     "name": "stdout",
     "output_type": "stream",
     "text": [
      "Age : OK\n",
      "Fare : OK\n",
      "Parch : OK\n",
      "PassengerId : OK\n",
      "Pclass : OK\n",
      "Sex : OK\n",
      "SibSp : OK\n",
      "TitleCat : OK\n",
      "Married : OK\n",
      "NameLength : OK\n",
      "CabinCat : OK\n",
      "Family_size : OK\n",
      "Ticket_--- : OK\n",
      "Ticket_A : OK\n",
      "Ticket_A4 : OK\n",
      "Ticket_A5 : OK\n",
      "Ticket_AQ3 : OK\n",
      "Ticket_AQ4 : OK\n",
      "Ticket_AS : OK\n",
      "Ticket_C : OK\n",
      "Ticket_CA : OK\n",
      "Ticket_CASOTON : OK\n",
      "Ticket_FA : OK\n",
      "Ticket_FC : OK\n",
      "Ticket_FCC : OK\n",
      "Ticket_LINE : OK\n",
      "Ticket_LP : OK\n",
      "Ticket_PC : OK\n",
      "Ticket_PP : OK\n",
      "Ticket_PPP : OK\n",
      "Ticket_SC : OK\n",
      "Ticket_SCA3 : OK\n",
      "Ticket_SCA4 : OK\n",
      "Ticket_SCAH : OK\n",
      "Ticket_SCOW : OK\n",
      "Ticket_SCPARIS : OK\n",
      "Ticket_SOC : OK\n",
      "Ticket_SOP : OK\n",
      "Ticket_SOPP : OK\n",
      "Ticket_SOTONO2 : OK\n",
      "Ticket_SOTONOQ : OK\n",
      "Ticket_SP : OK\n",
      "Ticket_STONO : OK\n",
      "Ticket_STONO2 : OK\n",
      "Ticket_STONOQ : OK\n",
      "Ticket_SWPP : OK\n",
      "Ticket_WC : OK\n",
      "Ticket_WEP : OK\n",
      "EmbarkedCat : OK\n",
      "child : OK\n",
      "female_adult : OK\n",
      "male_adult : OK\n",
      "perishing_mother_wife : OK\n",
      "surviving_father_husband : OK\n"
     ]
    }
   ],
   "source": [
    "for c in data.columns :\n",
    "    if data[c].isnull().sum() == 0 :\n",
    "        print c, ': OK'\n",
    "    else :\n",
    "        print c, ': Still missing values'"
   ]
  },
  {
   "cell_type": "markdown",
   "metadata": {},
   "source": [
    "# ---- 4. FEATURE SELECTION"
   ]
  },
  {
   "cell_type": "markdown",
   "metadata": {},
   "source": [
    "## 4.1/ Using PCA"
   ]
  },
  {
   "cell_type": "code",
   "execution_count": null,
   "metadata": {
    "collapsed": true
   },
   "outputs": [],
   "source": [
    "from sklearn import preprocessing\n",
    "# normalize the data attributes\n",
    "normalized_combined = preprocessing.normalize(combined, norm='l2')"
   ]
  },
  {
   "cell_type": "code",
   "execution_count": null,
   "metadata": {},
   "outputs": [],
   "source": [
    "from sklearn.decomposition import PCA\n",
    "pca = PCA()\n",
    "pca.fit(data)\n",
    "pca.explained_variance_ratio_\n",
    "plt.bar(np.arange(len(pca.explained_variance_ratio_))+0.5, pca.explained_variance_ratio_)\n",
    "plt.title(\"Variance expliquee\")\n",
    "plt.show()"
   ]
  },
  {
   "cell_type": "code",
   "execution_count": null,
   "metadata": {
    "collapsed": true
   },
   "outputs": [],
   "source": [
    "plt.figure(1, figsize=(10, 10))\n",
    "plt.clf()\n",
    "plt.axes([.2, .2, .7, .7])\n",
    "plt.plot(pca.explained_variance_, linewidth=2)\n",
    "plt.axis('tight')\n",
    "plt.xlabel('n_components')\n",
    "plt.ylabel('explained_variance_')\n",
    "plt.show()"
   ]
  },
  {
   "cell_type": "markdown",
   "metadata": {},
   "source": [
    "## 4.1/ Using SelectKBest"
   ]
  },
  {
   "cell_type": "code",
   "execution_count": null,
   "metadata": {
    "collapsed": true
   },
   "outputs": [],
   "source": [
    "from sklearn.feature_selection import SelectKBest, chi2\n",
    "\n",
    "train = data.head(891)\n",
    "test = data.iloc[891:]\n",
    "\n",
    "featureSelector = SelectKBest(chi2,k=20) \n",
    "train= featureSelector.fit_transform(train,targets)\n",
    "test = featureSelector.transform(test)"
   ]
  },
  {
   "cell_type": "markdown",
   "metadata": {},
   "source": [
    "# ---- 5. MODELS"
   ]
  },
  {
   "cell_type": "code",
   "execution_count": 25,
   "metadata": {},
   "outputs": [],
   "source": [
    "train = data.head(891)\n",
    "test = data.iloc[891:]"
   ]
  },
  {
   "cell_type": "code",
   "execution_count": 26,
   "metadata": {
    "collapsed": true
   },
   "outputs": [],
   "source": [
    "# Function that computes the score using cross validation\n",
    "def score_cv(model, X, y, scoring='accuracy'):\n",
    "    s = cross_val_score(model, X, y, cv = 5, scoring=scoring)\n",
    "    return np.mean(s)"
   ]
  },
  {
   "cell_type": "code",
   "execution_count": 27,
   "metadata": {
    "collapsed": true
   },
   "outputs": [],
   "source": [
    "# K : used into the function 'GridSearchCV' for parameters tuning, represents the number of folds \n",
    "# in the cross validation\n",
    "K=10"
   ]
  },
  {
   "cell_type": "markdown",
   "metadata": {},
   "source": [
    "## 5.1/ Random Forest"
   ]
  },
  {
   "cell_type": "markdown",
   "metadata": {},
   "source": [
    "### Without parameters tuning"
   ]
  },
  {
   "cell_type": "code",
   "execution_count": 28,
   "metadata": {},
   "outputs": [],
   "source": [
    "rf = RandomForestClassifier()\n",
    "rf = rf.fit(train, target)"
   ]
  },
  {
   "cell_type": "code",
   "execution_count": 29,
   "metadata": {},
   "outputs": [
    {
     "data": {
      "text/plain": [
       "0.85973103642225479"
      ]
     },
     "execution_count": 29,
     "metadata": {},
     "output_type": "execute_result"
    }
   ],
   "source": [
    "score_cv(rf, train, target, scoring='accuracy')"
   ]
  },
  {
   "cell_type": "code",
   "execution_count": 30,
   "metadata": {},
   "outputs": [
    {
     "data": {
      "image/png": "[encoded data removed]",
      "text/plain": [
       "<matplotlib.figure.Figure at 0x1c09abd110>"
      ]
     },
     "metadata": {},
     "output_type": "display_data"
    }
   ],
   "source": [
    "features = pd.DataFrame()\n",
    "features['feature'] = train.columns\n",
    "features['Importance'] = rf.feature_importances_\n",
    "features.sort_values(by=['Importance'], ascending=False, inplace=True)\n",
    "features.set_index('feature', inplace=True)\n",
    "\n",
    "features.plot(kind='bar', figsize=(20, 7), color='crimson')\n",
    "plt.legend(['Importance'],prop=({'size':25}))\n",
    "plt.show()"
   ]
  },
  {
   "cell_type": "markdown",
   "metadata": {},
   "source": [
    "We can see clearly the features that have the most importance in random forest, thus we have decided to work with the following subset of features ['Age','male_adult', 'female_adult', 'child','perishing_mother_wife','surviving_father_husband','Fare','Parch','Pclass','SibSp','TitleCat','CabinCat','Sex', 'EmbarkedCat', 'Family_size', 'NameLength']"
   ]
  },
  {
   "cell_type": "code",
   "execution_count": 31,
   "metadata": {
    "collapsed": true
   },
   "outputs": [],
   "source": [
    "features_selected = ['Age','male_adult', 'female_adult', 'child','perishing_mother_wife','surviving_father_husband','Fare','Parch','Pclass','SibSp','TitleCat','CabinCat','Sex', 'EmbarkedCat', 'Family_size', 'NameLength']\n",
    "\n",
    "train_data = data.head(891)\n",
    "test_data = data.iloc[891:]\n",
    "\n",
    "\n",
    "train = train_data.loc[:,features_selected]\n",
    "test = test_data.loc[:,features_selected]  "
   ]
  },
  {
   "cell_type": "markdown",
   "metadata": {},
   "source": [
    "### With parameters tuning"
   ]
  },
  {
   "cell_type": "code",
   "execution_count": 32,
   "metadata": {},
   "outputs": [
    {
     "name": "stdout",
     "output_type": "stream",
     "text": [
      "500\n"
     ]
    }
   ],
   "source": [
    "##### n_estimators\n",
    "#Range of parameters\n",
    "param=[{\"n_estimators\":[10,50,100,500,1000]}]\n",
    "rForest2= GridSearchCV(RandomForestClassifier(random_state=1),\n",
    "        param,cv=K,n_jobs=-1)\n",
    "rForestOpt=rForest2.fit(train, target)\n",
    "# Optimal parameter\n",
    "n_est=rForestOpt.best_params_['n_estimators']\n",
    "print n_est"
   ]
  },
  {
   "cell_type": "code",
   "execution_count": null,
   "metadata": {},
   "outputs": [],
   "source": [
    "score_cv(rForestOpt, train, target, scoring='accuracy')"
   ]
  },
  {
   "cell_type": "code",
   "execution_count": 33,
   "metadata": {},
   "outputs": [
    {
     "name": "stdout",
     "output_type": "stream",
     "text": [
      "auto\n"
     ]
    }
   ],
   "source": [
    "#max_features represents the maximum number of features that will be used in the model\n",
    "#Range of parameters\n",
    "param=[{\"max_features\":[\"auto\",\"sqrt\",\"log2\"]}]\n",
    "rForest2= GridSearchCV(RandomForestClassifier(n_estimators=n_est,random_state=1),\n",
    "        param,cv=K,n_jobs=-1)\n",
    "rForestOpt=rForest2.fit(train, target)\n",
    "\n",
    "# paramètre optimal\n",
    "max_f=rForestOpt.best_params_['max_features']\n",
    "print max_f"
   ]
  },
  {
   "cell_type": "code",
   "execution_count": null,
   "metadata": {},
   "outputs": [],
   "source": [
    "score_cv(rForestOpt, train, target, scoring='accuracy')"
   ]
  },
  {
   "cell_type": "code",
   "execution_count": null,
   "metadata": {},
   "outputs": [],
   "source": [
    "#Range of parameters\n",
    "param=[{\"min_samples_leaf\":[3,5,7,10]}]\n",
    "rForest2= GridSearchCV(RandomForestClassifier(n_estimators=n_est,max_features=max_f,random_state=1),\n",
    "        param,cv=K,n_jobs=-1)\n",
    "rForestOpt=rForest2.fit(train, target)\n",
    "# Optimal parameter\n",
    "min_sl=rForestOpt.best_params_['min_samples_leaf']\n",
    "print min_sl"
   ]
  },
  {
   "cell_type": "code",
   "execution_count": null,
   "metadata": {
    "collapsed": true
   },
   "outputs": [],
   "source": [
    "score_cv(rForestOpt, train, target, scoring='accuracy')"
   ]
  },
  {
   "cell_type": "code",
   "execution_count": null,
   "metadata": {},
   "outputs": [],
   "source": [
    "#Range of parameters\n",
    "param=[{\"min_samples_split\":[5,7,10,15]}]\n",
    "rForest2= GridSearchCV(RandomForestClassifier(n_estimators=n_est,max_features=max_f,min_samples_leaf=min_sl,\n",
    "                                              random_state=1),\n",
    "                       param,cv=K,n_jobs=-1)\n",
    "rForestOpt=rForest2.fit(train, target)\n",
    "# Optimal parameter\n",
    "min_ss=rForestOpt.best_params_['min_samples_split']\n",
    "print min_ss"
   ]
  },
  {
   "cell_type": "code",
   "execution_count": null,
   "metadata": {
    "collapsed": true
   },
   "outputs": [],
   "source": [
    "score_cv(rForestOpt, train, target, scoring='accuracy')"
   ]
  },
  {
   "cell_type": "code",
   "execution_count": null,
   "metadata": {},
   "outputs": [],
   "source": [
    "#Range of parameters\n",
    "param=[{\"max_depth\":[10,50,100,500]}]\n",
    "rForest2= GridSearchCV(RandomForestClassifier(n_estimators=n_est,max_features=max_f,min_samples_leaf=min_sl,\n",
    "                                             min_samples_split=min_ss,random_state=1),\n",
    "                       param,cv=K,n_jobs=-1)\n",
    "rForestOpt=rForest2.fit(train, target)\n",
    "# Optimal parameter\n",
    "max_d=rForestOpt.best_params_['max_depth']\n",
    "print max_d"
   ]
  },
  {
   "cell_type": "code",
   "execution_count": null,
   "metadata": {
    "collapsed": true
   },
   "outputs": [],
   "source": [
    "score_cv(rForestOpt, train, target, scoring='accuracy')"
   ]
  },
  {
   "cell_type": "markdown",
   "metadata": {},
   "source": [
    "#### Summary and Final model"
   ]
  },
  {
   "cell_type": "code",
   "execution_count": null,
   "metadata": {
    "collapsed": true
   },
   "outputs": [],
   "source": [
    "### Model with best param\n",
    "print 'n_estimators : ',n_est\n",
    "print 'max_feature : ', max_f\n",
    "print 'min_samples_leaf : ', min_sl\n",
    "print 'min_samples_split : ', min_ss\n",
    "print 'max_depth : ', max_d"
   ]
  },
  {
   "cell_type": "code",
   "execution_count": null,
   "metadata": {},
   "outputs": [],
   "source": [
    "model=RandomForestClassifier(n_estimators=n_est,max_features=max_f,min_samples_leaf=min_sl,max_depth=max_d,\n",
    "                            min_samples_split=min_ss,random_state=1)\n",
    "model.fit(train, target)\n",
    "score_cv(model, train, target, scoring='accuracy')"
   ]
  },
  {
   "cell_type": "code",
   "execution_count": null,
   "metadata": {},
   "outputs": [],
   "source": [
    "pred = model.predict(test).astype(int)\n",
    "temp = pd.read_csv('Data/test.csv',sep=';')\n",
    "\n",
    "df = pd.DataFrame()\n",
    "df['PassengerId'] = temp['PassengerId']\n",
    "df['Survived'] = pred\n",
    "df[['PassengerId','Survived']].to_csv('output_rf_opt.csv',index=False)"
   ]
  },
  {
   "cell_type": "markdown",
   "metadata": {},
   "source": [
    "## 5.2/ SVM"
   ]
  },
  {
   "cell_type": "markdown",
   "metadata": {},
   "source": [
    "### Without parameters tuning"
   ]
  },
  {
   "cell_type": "code",
   "execution_count": null,
   "metadata": {
    "collapsed": true
   },
   "outputs": [],
   "source": [
    "svm_ = svm.SVC()\n",
    "svm_.fit(train, target)\n",
    "score_cv(svm_, train, target, scoring='accuracy')"
   ]
  },
  {
   "cell_type": "markdown",
   "metadata": {},
   "source": [
    "### With parameters tuning"
   ]
  },
  {
   "cell_type": "code",
   "execution_count": null,
   "metadata": {
    "collapsed": true
   },
   "outputs": [],
   "source": [
    "#Range of parameters\n",
    "param=[{\"kernel\":['linear','rbf']}]\n",
    "svm= GridSearchCV(svm.SVC(),param,cv=K,n_jobs=-1)\n",
    "svmOpt=rForest2.fit(train, targets)\n",
    "# Optimal parameter\n",
    "ker= svmOpt.best_params_['kernel']"
   ]
  },
  {
   "cell_type": "code",
   "execution_count": null,
   "metadata": {
    "collapsed": true
   },
   "outputs": [],
   "source": [
    "#Range of parameters\n",
    "param=[{\"gamma\":[0.1,0.2,0.3,0.4,0.5,0.6,0.7,0.8,0.9,1.0]}]\n",
    "svm= GridSearchCV(svm.SVC(kernel=kernel),param,cv=K,n_jobs=-1)\n",
    "svmOpt=rForest2.fit(train, targets)\n",
    "# Optimal parameter\n",
    "gam= svmOpt.best_params_['gamma']"
   ]
  },
  {
   "cell_type": "code",
   "execution_count": null,
   "metadata": {
    "collapsed": true
   },
   "outputs": [],
   "source": [
    "#Range of parameters\n",
    "param=[{\"C\":[0.05,0.1,0.2,0.3,0.25,0.4,0.5,0.6,0.7,0.8,0.9,1]}]\n",
    "svm= GridSearchCV(svm.SVC(kernel='linear',gamma=0.1),param,cv=K,n_jobs=-1)\n",
    "svmOpt=rForest2.fit(train, targets)\n",
    "# Optimal parameter\n",
    "c=rForestOpt.best_params_['C']"
   ]
  },
  {
   "cell_type": "markdown",
   "metadata": {},
   "source": [
    "#### Summary and Final model"
   ]
  },
  {
   "cell_type": "code",
   "execution_count": null,
   "metadata": {
    "collapsed": true
   },
   "outputs": [],
   "source": [
    "### Model with best param\n",
    "print 'kernel : ',ker\n",
    "print 'gamma : ', gam\n",
    "print 'c : ', c"
   ]
  },
  {
   "cell_type": "code",
   "execution_count": null,
   "metadata": {
    "collapsed": true
   },
   "outputs": [],
   "source": [
    "model=svm.SVC(kernel=ker ,C= c,gamma=gam)\n",
    "\n",
    "model.fit(train, target)\n",
    "score_cv(model, train, target, scoring='accuracy')"
   ]
  },
  {
   "cell_type": "code",
   "execution_count": null,
   "metadata": {
    "collapsed": true
   },
   "outputs": [],
   "source": [
    "pred = model.predict(test).astype(int)\n",
    "temp = pd.read_csv('Data/test.csv',sep=';')\n",
    "\n",
    "df = pd.DataFrame()\n",
    "df['PassengerId'] = temp['PassengerId']\n",
    "df['Survived'] = pred\n",
    "df[['PassengerId','Survived']].to_csv('output_svm_opt.csv',index=False)"
   ]
  },
  {
   "cell_type": "markdown",
   "metadata": {},
   "source": [
    "## 5.3/ Logistic Regression"
   ]
  },
  {
   "cell_type": "markdown",
   "metadata": {},
   "source": [
    "### Without parameters tuning"
   ]
  },
  {
   "cell_type": "code",
   "execution_count": null,
   "metadata": {
    "collapsed": true
   },
   "outputs": [],
   "source": [
    "regLog = linear_model.LogisticRegression()\n",
    "log = regLog.fit(train, target)"
   ]
  },
  {
   "cell_type": "code",
   "execution_count": null,
   "metadata": {
    "collapsed": true
   },
   "outputs": [],
   "source": [
    "score_cv(log, train, target, scoring='accuracy')"
   ]
  },
  {
   "cell_type": "code",
   "execution_count": null,
   "metadata": {
    "collapsed": true
   },
   "outputs": [],
   "source": [
    "pred = log.predict(test).astype(int)\n",
    "temp = pd.read_csv('Data/test.csv',sep=';')\n",
    "\n",
    "df = pd.DataFrame()\n",
    "df['PassengerId'] = temp['PassengerId']\n",
    "df['Survived'] = pred\n",
    "df[['PassengerId','Survived']].to_csv('output_log_noopt.csv',index=False)"
   ]
  },
  {
   "cell_type": "markdown",
   "metadata": {},
   "source": [
    "### With parameters tuning"
   ]
  },
  {
   "cell_type": "code",
   "execution_count": null,
   "metadata": {
    "collapsed": true
   },
   "outputs": [],
   "source": [
    "param = {'C':[0.5,1,3,5,7]}\n",
    "gsearch = GridSearchCV(estimator = linear_model.LogisticRegression(random_state=5),\n",
    "                        param_grid = param, n_jobs=-1,iid=False, cv=K)\n",
    "\n",
    "log=gsearch.fit(train,target)\n",
    "gsearch.grid_scores_, gsearch.best_params_, gsearch.best_score_\n",
    "C=log.best_params_['C']\n",
    "print C"
   ]
  },
  {
   "cell_type": "code",
   "execution_count": null,
   "metadata": {
    "collapsed": true
   },
   "outputs": [],
   "source": [
    "regLog = linear_model.LogisticRegression(C=C,random_state=5)\n",
    "log = regLog.fit(train, target)\n",
    "score_cv(log, train, target, scoring='accuracy')"
   ]
  },
  {
   "cell_type": "code",
   "execution_count": null,
   "metadata": {
    "collapsed": true
   },
   "outputs": [],
   "source": [
    "pred = log.predict(test).astype(int)\n",
    "temp = pd.read_csv('Data/test.csv',sep=';')\n",
    "\n",
    "df = pd.DataFrame()\n",
    "df['PassengerId'] = temp['PassengerId']\n",
    "df['Survived'] = pred\n",
    "df[['PassengerId','Survived']].to_csv('output_log_opt.csv',index=False)"
   ]
  },
  {
   "cell_type": "markdown",
   "metadata": {},
   "source": [
    "## 5.4/ K Nearest Neighbors"
   ]
  },
  {
   "cell_type": "code",
   "execution_count": null,
   "metadata": {
    "collapsed": true
   },
   "outputs": [],
   "source": [
    "n_neighbors = 25\n",
    "\n",
    "# a. weights = uniform \n",
    "clf_unif = KNeighborsClassifier(n_neighbors, weights='uniform')\n",
    "model_knn_unif=clf_unif.fit(train, target)\n",
    "\n",
    "# b. weights = distance \n",
    "clf_dist = KNeighborsClassifier(n_neighbors, weights='distance')\n",
    "model_knn_dist=clf_dist.fit(train, target)"
   ]
  },
  {
   "cell_type": "code",
   "execution_count": null,
   "metadata": {
    "collapsed": true
   },
   "outputs": [],
   "source": [
    "score_cv(model_knn_unif,train, target, scoring='accuracy')"
   ]
  },
  {
   "cell_type": "code",
   "execution_count": null,
   "metadata": {
    "collapsed": true
   },
   "outputs": [],
   "source": [
    "score_cv(model_knn_dist,train, target, scoring='accuracy')"
   ]
  },
  {
   "cell_type": "code",
   "execution_count": null,
   "metadata": {
    "collapsed": true
   },
   "outputs": [],
   "source": [
    "pred = model_knn_dist.predict(test).astype(int)\n",
    "temp = pd.read_csv('Data/test.csv',sep=';')\n",
    "\n",
    "df = pd.DataFrame()\n",
    "df['PassengerId'] = temp['PassengerId']\n",
    "df['Survived'] = pred\n",
    "df[['PassengerId','Survived']].to_csv('output_knn.csv',index=False)"
   ]
  },
  {
   "cell_type": "markdown",
   "metadata": {},
   "source": [
    "## 5.5/ Neural Network"
   ]
  },
  {
   "cell_type": "markdown",
   "metadata": {},
   "source": [
    "### Without parameters tuning"
   ]
  },
  {
   "cell_type": "code",
   "execution_count": null,
   "metadata": {
    "collapsed": true
   },
   "outputs": [],
   "source": [
    "nnet = MLPClassifier()\n",
    "mod_nnet = nnet.fit(train, target)"
   ]
  },
  {
   "cell_type": "code",
   "execution_count": null,
   "metadata": {
    "collapsed": true
   },
   "outputs": [],
   "source": [
    "score_cv(mod_nnet, train, target, scoring='accuracy')"
   ]
  },
  {
   "cell_type": "code",
   "execution_count": null,
   "metadata": {
    "collapsed": true
   },
   "outputs": [],
   "source": [
    "pred = mod_nnet.predict(test).astype(int)\n",
    "temp = pd.read_csv('Data/test.csv',sep=';')\n",
    "\n",
    "df = pd.DataFrame()\n",
    "df['PassengerId'] = temp['PassengerId']\n",
    "df['Survived'] = pred\n",
    "df[['PassengerId','Survived']].to_csv('output_nnet_noopt.csv',index=False)"
   ]
  },
  {
   "cell_type": "markdown",
   "metadata": {},
   "source": [
    "### With parameters tuning"
   ]
  },
  {
   "cell_type": "code",
   "execution_count": null,
   "metadata": {
    "collapsed": true
   },
   "outputs": [],
   "source": [
    "param = {'hidden_layer_sizes':[(10,),(50,),(100,)]}\n",
    "gsearch5 = GridSearchCV(estimator = MLPClassifier(random_state=15),\n",
    "                        param_grid = param, n_jobs=-1,iid=False, cv=K)\n",
    "\n",
    "mod_nnet=gsearch5.fit(train,target)\n",
    "gsearch5.grid_scores_, gsearch5.best_params_, gsearch5.best_score_\n",
    "hls=mod_nnet.best_params_['hidden_layer_sizes']"
   ]
  },
  {
   "cell_type": "code",
   "execution_count": null,
   "metadata": {
    "collapsed": true
   },
   "outputs": [],
   "source": [
    "param = {'alpha':[0.0001,0.001,0.01,0.1,0.00001]}\n",
    "gsearch = GridSearchCV(estimator = MLPClassifier(hidden_layer_sizes=hls,random_state=15),\n",
    "                        param_grid = param, n_jobs=-1,iid=False, cv=K)\n",
    "\n",
    "mod_nnet=gsearch.fit(train,target)\n",
    "gsearch.grid_scores_, gsearch.best_params_, gsearch.best_score_\n",
    "a=mod_nnet.best_params_['alpha']"
   ]
  },
  {
   "cell_type": "code",
   "execution_count": null,
   "metadata": {
    "collapsed": true
   },
   "outputs": [],
   "source": [
    "param = {'learning_rate':['constant', 'invscaling', 'adaptive']}\n",
    "gsearch = GridSearchCV(estimator = MLPClassifier(hidden_layer_sizes=hls,alpha=a,random_state=15),\n",
    "                        param_grid = param, n_jobs=-1,iid=False, cv=K)\n",
    "\n",
    "mod_nnet=gsearch.fit(train,target)\n",
    "gsearch.grid_scores_, gsearch.best_params_, gsearch.best_score_\n",
    "lr=mod_nnet.best_params_['learning_rate']"
   ]
  },
  {
   "cell_type": "code",
   "execution_count": null,
   "metadata": {
    "collapsed": true
   },
   "outputs": [],
   "source": [
    "param = {'solver':['lbfgs', 'sgd', 'adam']}\n",
    "gsearch = GridSearchCV(estimator = MLPClassifier(hidden_layer_sizes=hls,alpha=a,learning_rate=lr,random_state=15),\n",
    "                        param_grid = param, n_jobs=-1,iid=False, cv=K)\n",
    "\n",
    "mod_nnet=gsearch.fit(train,target)\n",
    "gsearch.grid_scores_, gsearch.best_params_, gsearch.best_score_\n",
    "solv=mod_nnet.best_params_['solver']"
   ]
  },
  {
   "cell_type": "code",
   "execution_count": null,
   "metadata": {
    "collapsed": true
   },
   "outputs": [],
   "source": [
    "param = {'activation':['identity', 'logistic', 'tanh', 'relu']}\n",
    "gsearch = GridSearchCV(estimator = MLPClassifier(hidden_layer_sizes=hls,alpha=a,learning_rate=lr,solver=solv,\n",
    "                                                random_state=15),\n",
    "                        param_grid = param, n_jobs=-1,iid=False, cv=K)\n",
    "\n",
    "mod_nnet=gsearch.fit(train,target)\n",
    "gsearch.grid_scores_, gsearch.best_params_, gsearch.best_score_\n",
    "act=mod_nnet.best_params_['activation']"
   ]
  },
  {
   "cell_type": "markdown",
   "metadata": {},
   "source": [
    "#### Final model"
   ]
  },
  {
   "cell_type": "code",
   "execution_count": null,
   "metadata": {
    "collapsed": true
   },
   "outputs": [],
   "source": [
    "mod_nnet2 = MLPClassifier(hidden_layer_sizes=hls,alpha=a,learning_rate=lr,solver=solv,activation=act,random_state=15)\n",
    "mod_nnet_final=mod_nnet2.fit(train,target)"
   ]
  },
  {
   "cell_type": "code",
   "execution_count": null,
   "metadata": {
    "collapsed": true
   },
   "outputs": [],
   "source": [
    "score_cv(mod_nnet_final, train, targets, scoring='accuracy')"
   ]
  },
  {
   "cell_type": "code",
   "execution_count": null,
   "metadata": {
    "collapsed": true
   },
   "outputs": [],
   "source": [
    "pred = mod_nnet_final.predict(test).astype(int)\n",
    "temp = pd.read_csv('Data/test.csv',sep=';')\n",
    "\n",
    "df = pd.DataFrame()\n",
    "df['PassengerId'] = temp['PassengerId']\n",
    "df['Survived'] = pred\n",
    "df[['PassengerId','Survived']].to_csv('output_nnet_opt.csv',index=False)"
   ]
  },
  {
   "cell_type": "markdown",
   "metadata": {},
   "source": [
    "## 5.6/ Gradient Boosting"
   ]
  },
  {
   "cell_type": "markdown",
   "metadata": {},
   "source": [
    "### Without parameters tuning"
   ]
  },
  {
   "cell_type": "code",
   "execution_count": null,
   "metadata": {
    "collapsed": true
   },
   "outputs": [],
   "source": [
    "gbm = GradientBoostingClassifier()\n",
    "mod_gbm = gbm.fit(train,target)\n",
    "\n",
    "score_cv(gbm, train, target, scoring='accuracy')"
   ]
  },
  {
   "cell_type": "code",
   "execution_count": null,
   "metadata": {
    "collapsed": true
   },
   "outputs": [],
   "source": [
    "pred = gbm.predict(test).astype(int)\n",
    "temp = pd.read_csv('Data/test.csv',sep=';')\n",
    "\n",
    "df = pd.DataFrame()\n",
    "df['PassengerId'] = temp['PassengerId']\n",
    "df['Survived'] = pred\n",
    "df[['PassengerId','Survived']].to_csv('output_gbm_noopt.csv',index=False)"
   ]
  },
  {
   "cell_type": "markdown",
   "metadata": {},
   "source": [
    "### With parameters tuning"
   ]
  },
  {
   "cell_type": "code",
   "execution_count": null,
   "metadata": {
    "collapsed": true
   },
   "outputs": [],
   "source": [
    "param_test1 = {'n_estimators':[10,100,500,1000]}\n",
    "gsearch1 = GridSearchCV(estimator = GradientBoostingClassifier(learning_rate=0.1, min_samples_split=500,\n",
    "                                                               min_samples_leaf=50,max_depth=8,max_features='sqrt',\n",
    "                                                               subsample=0.8,random_state=10), \n",
    "                        param_grid = param_test1, n_jobs=-1,iid=False, cv=K)\n",
    "\n",
    "gbmOpt=gsearch1.fit(train, target)\n",
    "gsearch1.grid_scores_, gsearch1.best_params_, gsearch1.best_score_\n",
    "n_est=gbmOpt.best_params_['n_estimators']"
   ]
  },
  {
   "cell_type": "code",
   "execution_count": null,
   "metadata": {
    "collapsed": true
   },
   "outputs": [],
   "source": [
    "param_test2 = {'max_depth':range(5,16,2), 'min_samples_split':range(200,1001,200)}\n",
    "gsearch2 = GridSearchCV(estimator = GradientBoostingClassifier(learning_rate=0.1, n_estimators=n_est, \n",
    "                                                              max_features='sqrt', subsample=0.8, random_state=10), \n",
    "                        param_grid = param_test2, n_jobs=-1,iid=False, cv=K)\n",
    "\n",
    "gbmOpt=gsearch2.fit(train, target)\n",
    "gsearch2.grid_scores_, gsearch2.best_params_, gsearch2.best_score_\n",
    "max_d=gbmOpt.best_params_['max_depth']\n",
    "min_ss=gbmOpt.best_params_['min_samples_split']"
   ]
  },
  {
   "cell_type": "code",
   "execution_count": null,
   "metadata": {
    "collapsed": true
   },
   "outputs": [],
   "source": [
    "param_test3 = {'min_samples_leaf':range(30,71,10)}\n",
    "gsearch3 = GridSearchCV(estimator = GradientBoostingClassifier(learning_rate=0.1, n_estimators=n_est,max_depth=max_d, \n",
    "                                                              min_samples_split=min_ss,max_features='sqrt', \n",
    "                                                              subsample=0.8, random_state=10), \n",
    "                        param_grid = param_test3, n_jobs=-1,iid=False, cv=K)\n",
    "\n",
    "gbmOpt=gsearch3.fit(train,target)\n",
    "gsearch3.grid_scores_, gsearch3.best_params_, gsearch3.best_score_\n",
    "min_sl=gbmOpt.best_params_['min_samples_leaf']"
   ]
  },
  {
   "cell_type": "code",
   "execution_count": null,
   "metadata": {
    "collapsed": true
   },
   "outputs": [],
   "source": [
    "param_test4 = [{\"max_features\":[\"auto\",\"sqrt\",\"log2\"]}]\n",
    "gsearch4 = GridSearchCV(estimator = GradientBoostingClassifier(learning_rate=0.1, n_estimators=n_est,max_depth=max_d, \n",
    "                                                              min_samples_split=min_ss, min_samples_leaf=min_sl, \n",
    "                                                              subsample=0.8,random_state=10),\n",
    "                        param_grid = param_test4, n_jobs=-1,iid=False, cv=K)\n",
    "\n",
    "gbmOpt=gsearch4.fit(train,target)\n",
    "gsearch4.grid_scores_, gsearch4.best_params_, gsearch4.best_score_\n",
    "max_f=gbmOpt.best_params_['max_features']"
   ]
  },
  {
   "cell_type": "code",
   "execution_count": null,
   "metadata": {
    "collapsed": true
   },
   "outputs": [],
   "source": [
    "param_test5 = {'subsample':[0.6,0.7,0.75,0.8,0.85,0.9]}\n",
    "gsearch5 = GridSearchCV(estimator = GradientBoostingClassifier(learning_rate=0.05, n_estimators=n_est,max_depth=max_d,\n",
    "                                                              min_samples_split=min_ss, min_samples_leaf=min_sl, \n",
    "                                                              subsample=0.8, random_state=10,max_features=max_f),\n",
    "                        param_grid = param_test5, n_jobs=-1,iid=False, cv=K)\n",
    "\n",
    "gbmOpt=gsearch5.fit(train, target)\n",
    "gsearch5.grid_scores_, gsearch5.best_params_, gsearch5.best_score_\n",
    "subs=gbmOpt.best_params_['subsample']"
   ]
  },
  {
   "cell_type": "markdown",
   "metadata": {},
   "source": [
    "#### Summary and Final model"
   ]
  },
  {
   "cell_type": "code",
   "execution_count": null,
   "metadata": {
    "collapsed": true
   },
   "outputs": [],
   "source": [
    "print 'n_estimators :', n_est\n",
    "print 'min_samples_split :', min_ss\n",
    "print 'min_samples_leaf :', min_sl\n",
    "print 'max_depth :', max_d\n",
    "print 'max_features :', max_f\n",
    "print 'subsample :', subs"
   ]
  },
  {
   "cell_type": "code",
   "execution_count": null,
   "metadata": {
    "collapsed": true
   },
   "outputs": [],
   "source": [
    "gbm6=GradientBoostingClassifier(n_estimators =n_est,learning_rate=0.01, min_samples_split=min_ss,\n",
    "                               min_samples_leaf=min_sl,max_depth=max_d,max_features=max_f,subsample=subs,\n",
    "                               random_state=10) \n",
    "\n",
    "gbm_final=gbm6.fit(train,target)\n",
    "score_cv(gbm_final, train, target, scoring='accuracy')"
   ]
  },
  {
   "cell_type": "code",
   "execution_count": null,
   "metadata": {
    "collapsed": true
   },
   "outputs": [],
   "source": [
    "pred = gbm_final.predict(test).astype(int)\n",
    "temp = pd.read_csv('Data/test.csv',sep=';')\n",
    "\n",
    "df = pd.DataFrame()\n",
    "df['PassengerId'] = temp['PassengerId']\n",
    "df['Survived'] = pred\n",
    "df[['PassengerId','Survived']].to_csv('output_gbm_opt.csv',index=False)"
   ]
  },
  {
   "cell_type": "markdown",
   "metadata": {},
   "source": [
    "## 5.7/ XGBoost"
   ]
  },
  {
   "cell_type": "markdown",
   "metadata": {},
   "source": [
    "### Without parameters tuning"
   ]
  },
  {
   "cell_type": "code",
   "execution_count": null,
   "metadata": {
    "collapsed": true
   },
   "outputs": [],
   "source": [
    "xgb1=xgb.XGBClassifier()\n",
    "xgb1 = xgb1.fit(train, target)\n",
    "\n",
    "score_cv(xgb1, train, target, scoring='accuracy')"
   ]
  },
  {
   "cell_type": "code",
   "execution_count": null,
   "metadata": {
    "collapsed": true
   },
   "outputs": [],
   "source": [
    "pred = xgb1.predict(test).astype(int)\n",
    "temp = pd.read_csv('Data/test.csv',sep=';')\n",
    "\n",
    "df = pd.DataFrame()\n",
    "df['PassengerId'] = temp['PassengerId']\n",
    "df['Survived'] = pred\n",
    "df[['PassengerId','Survived']].to_csv('output_xgb_noopt.csv',index=False)"
   ]
  },
  {
   "cell_type": "markdown",
   "metadata": {},
   "source": [
    "### With parameters tuning (need more powerful computer to run this part)"
   ]
  },
  {
   "cell_type": "code",
   "execution_count": null,
   "metadata": {
    "collapsed": true
   },
   "outputs": [],
   "source": [
    "param_test1 = {\n",
    " 'max_depth':range(3,10,2),\n",
    " 'min_child_weight':range(1,6,2)\n",
    "}\n",
    "gsearch1 = GridSearchCV(estimator = xgb.XGBClassifier( learning_rate =0.1, n_estimators=140, max_depth=5,\n",
    "                                                      min_child_weight=1, gamma=0, subsample=0.8, colsample_bytree=0.8,\n",
    "                                                      objective= 'binary:logistic', nthread=4, scale_pos_weight=1, \n",
    "                                                      seed=27), \n",
    "                        param_grid = param_test1, scoring='roc_auc',n_jobs=-1,iid=False, cv=5)\n",
    "\n",
    "gsearch1.fit(train,target)\n",
    "gsearch1.grid_scores_, gsearch1.best_params_, gsearch1.best_score_\n",
    "max_d=gsearch1.best_params_['max_depth']\n",
    "min_cw=gsearch1.best_params_['in_child_weight']"
   ]
  },
  {
   "cell_type": "code",
   "execution_count": null,
   "metadata": {
    "collapsed": true
   },
   "outputs": [],
   "source": [
    "param_test2 = {\n",
    " 'gamma':[i/10.0 for i in range(0,5)]\n",
    "}\n",
    "gsearch2 = GridSearchCV(estimator = xgb.XGBClassifier(learning_rate =0.1, n_estimators=140, max_depth=max_d,\n",
    "                                                      min_child_weight=min_cw, gamma=0, subsample=0.8, \n",
    "                                                      colsample_bytree=0.8,objective= 'binary:logistic', nthread=4, \n",
    "                                                      scale_pos_weight=1,seed=27), \n",
    "                        param_grid = param_test2, scoring='roc_auc',n_jobs=-1,iid=False, cv=5)\n",
    "\n",
    "gsearch2.fit(train,target)\n",
    "gsearch2.grid_scores_, gsearch2.best_params_, gsearch2.best_score_\n",
    "g=gsearch2.best_params_['gamma']"
   ]
  },
  {
   "cell_type": "code",
   "execution_count": null,
   "metadata": {
    "collapsed": true
   },
   "outputs": [],
   "source": [
    "param_test3 = {\n",
    " 'subsample':[i/10.0 for i in range(6,10)],\n",
    " 'colsample_bytree':[i/10.0 for i in range(6,10)]\n",
    "}\n",
    "gsearch3 = GridSearchCV(estimator = xgb.XGBClassifier(learning_rate =0.1, n_estimators=177, max_depth=max_d,\n",
    "                                                      min_child_weight=min_cw, gamma=g, subsample=0.8, \n",
    "                                                      colsample_bytree=0.8,objective= 'binary:logistic', nthread=4, \n",
    "                                                      scale_pos_weight=1,seed=27), \n",
    "                        param_grid = param_test3, scoring='roc_auc',n_jobs=-1,iid=False, cv=5)\n",
    "\n",
    "gsearch3.fit(train,target)\n",
    "gsearch3.grid_scores_, gsearch3.best_params_, gsearch3.best_score_\n",
    "subs=gsearch3.best_params_['subsample']\n",
    "cls_bt=gsearch3.best_params_['colsample_bytree']"
   ]
  },
  {
   "cell_type": "code",
   "execution_count": null,
   "metadata": {
    "collapsed": true
   },
   "outputs": [],
   "source": [
    "param_test4 = {\n",
    " 'reg_alpha':[1e-5, 1e-2, 0.1, 1, 100]\n",
    "}\n",
    "gsearch4 = GridSearchCV(estimator = xgb.XGBClassifier(learning_rate =0.1, n_estimators=177, max_depth=max_d,\n",
    "                                                      min_child_weight=min_cw, gamma=g, subsample=subs, \n",
    "                                                      colsample_bytree=cls_bt,objective= 'binary:logistic', nthread=4, \n",
    "                                                      scale_pos_weight=1,seed=27), \n",
    "                        param_grid = param_test4, scoring='roc_auc',n_jobs=-1,iid=False, cv=5)\n",
    "\n",
    "gsearch4.fit(train,target)\n",
    "gsearch4.grid_scores_, gsearch4.best_params_, gsearch4.best_score_\n",
    "reg_a=gsearch4.best_params_['reg_alpha']"
   ]
  },
  {
   "cell_type": "code",
   "execution_count": null,
   "metadata": {
    "collapsed": true
   },
   "outputs": [],
   "source": [
    "xgb2 = XGBClassifier(learning_rate=0.01,n_estimators=500,max_depth=max_d,min_child_weight=min_cw,gamma=g,\n",
    "                     subsample=subs,colsample_bytree=cls_bt,reg_alpha=reg_a,objective='binary:logistic',\n",
    "                     nthread=4,scale_pos_weight=1,seed=27)\n",
    "\n",
    "xgb2.fit(train, target)"
   ]
  },
  {
   "cell_type": "markdown",
   "metadata": {},
   "source": [
    "## 5.8/ Voting with the 2 best models"
   ]
  },
  {
   "cell_type": "code",
   "execution_count": null,
   "metadata": {},
   "outputs": [],
   "source": [
    "clf1 = RandomForestClassifier(n_estimators=n_est,max_features=max_f,min_samples_leaf=min_sl,max_depth=max_d,\n",
    "                            min_samples_split=min_ss,random_state=1 ,class_weight={0:0.745,1:0.255})\n",
    "clf2 = svm.SVC(kernel='linear',C=0.8,gamma=0.1)\n",
    "\n",
    "\n",
    "eclf1 = VotingClassifier(estimators=[('rf', clf1), ('svm', clf2)] , voting='hard')\n",
    "eclf1 = eclf1.fit(train, target)\n",
    "\n",
    "\n",
    "output = eclf1.predict(test).astype(int)\n",
    "aux = pd.read_csv('Data/test.csv',sep=';')\n",
    "\n",
    "df_output = pd.DataFrame()\n",
    "df_output['PassengerId'] = aux['PassengerId']\n",
    "df_output['Survived'] = output\n",
    "df_output[['PassengerId','Survived']].to_csv('results/output_voting_kaggle_sub.csv',index=False)"
   ]
  },
  {
   "cell_type": "markdown",
   "metadata": {},
   "source": [
    "# ---- 6. MODELS COMPARISON"
   ]
  },
  {
   "cell_type": "markdown",
   "metadata": {},
   "source": [
    "## 6.1/ Performances comparison on training set"
   ]
  },
  {
   "cell_type": "code",
   "execution_count": null,
   "metadata": {
    "collapsed": true
   },
   "outputs": [],
   "source": [
    "check_random_state(13)\n",
    "tps0=time.clock()\n",
    "K=9\n",
    "\n",
    "# Classifiers\n",
    "logi = linear_model.LogisticRegression(C=10)\n",
    "\n",
    "rf   = RandomForestClassifier(n_estimators=500,min_samples_leaf=5,max_depth=10,min_samples_split=10,\n",
    "                             max_features='sqrt',random_state=1)\n",
    "\n",
    "boost = xgb.XGBClassifier(silent=1, seed=0, base_score=0.5, max_delta_step= 0,subsample=0.75, \n",
    "                          max_depth= 10, min_child_weight= 2, n_estimators= 280,colsample_bytree= 0.65, gamma= 2)\n",
    "\n",
    "nnet = MLPClassifier(solver='lbfgs', alpha=0.00001,activation='identity',learning_rate='adaptive',\n",
    "                     hidden_layer_sizes=(100,))\n",
    "\n",
    "knn_dist = KNeighborsClassifier(n_neighbors=25, weights='distance')\n",
    "\n",
    "gbm = GradientBoostingClassifier(n_estimators=500,min_samples_split=600,min_samples_leaf=50,max_depth=7,\n",
    "                                 max_features='sqrt',subsample=0.9,random_state=10)\n",
    "\n",
    "svm_  = svm.SVC()\n",
    "\n",
    "# Number of iterations\n",
    "B=50 # to test the loop : use B=3 instead\n",
    "\n",
    "# Parameters grids\n",
    "listMethGrid=[rf,nnet,gbm,boost,svm_,logi,knn_dist]\n",
    "\n",
    "arrayErreur=np.empty((B,8))\n",
    "\n",
    "for i in range(B):\n",
    "    #print i\n",
    "    X_train,X_test,Y_train,Y_test=train_test_split(train,target,test_size=0.15)\n",
    "    scaler = StandardScaler()  \n",
    "    scaler.fit(X_train)  \n",
    "    \n",
    "    X_train = scaler.transform(X_train)  \n",
    "    X_test = scaler.transform(X_test)\n",
    "    \n",
    "    # Computation of test error\n",
    "    for j,method in enumerate(listMethGrid):\n",
    "        methFit=method.fit(X_train, Y_train)\n",
    "        arrayErreur[i,j]=methFit.score(X_test,Y_test)\n",
    "        \n",
    "tps1=time.clock()\n",
    "print(\"Temps execution en mn :\",(tps1 - tps0)/60)\n",
    "\n",
    "dataframeErreur=pd.DataFrame(arrayErreur,columns=[\"RF\",\"NNET\",\"GBM\",\"XGB\",\"SVM\",\"Logit\",\"KNN\",\"...\"])    "
   ]
  },
  {
   "cell_type": "code",
   "execution_count": null,
   "metadata": {
    "collapsed": true
   },
   "outputs": [],
   "source": [
    "fig, ax = plt.subplots(figsize=(15,7))\n",
    "dataframeErreur[[\"RF\",\"NNET\",\"GBM\",\"XGB\",\"SVM\",\"Logit\",\"KNN\"]].boxplot(return_type='dict')\n",
    "dataframeErreur.to_csv('dataframeErreur_B50.csv',index=None)\n",
    "ax.set_xticklabels([\"RF\",\"NNET\",\"GBM\",\"XGB\",\"SVM\",\"Logit\",\"KNN\"],fontsize=30)\n",
    "plt.show()"
   ]
  },
  {
   "cell_type": "markdown",
   "metadata": {},
   "source": [
    "## 6.2/ Kaggle scores"
   ]
  },
  {
   "cell_type": "code",
   "execution_count": null,
   "metadata": {
    "collapsed": true
   },
   "outputs": [],
   "source": [
    "kagg=pd.read_csv('kaggle_scores.csv',sep=';')"
   ]
  },
  {
   "cell_type": "code",
   "execution_count": null,
   "metadata": {
    "collapsed": true
   },
   "outputs": [],
   "source": [
    "# Setting the positions and width for the bars\n",
    "width = 0.25\n",
    "pos = list(range(len(kagg['With'])))\n",
    "\n",
    " \n",
    "# Plotting the bars\n",
    "fig, ax = plt.subplots(figsize=(15,7))\n",
    "\n",
    "# Create a bar with pre_score data,\n",
    "# in position pos,\n",
    "plt.bar([p + 0.1 for p in pos],kagg['Without'],width,color='darkcyan') \n",
    "\n",
    "# Create a bar with mid_score data,\n",
    "# in position pos + some width buffer,\n",
    "plt.bar([p + 0.4 for p in pos],kagg['With'],width,color='crimson') \n",
    "#label='With parameters tuning',label='Without parameters tuning'\n",
    "\n",
    "# Set the y axis label\n",
    "ax.set_ylabel('Score')\n",
    "\n",
    "# Set the chart's title\n",
    "ax.set_title('Kaggle scores comparison')\n",
    "\n",
    "# Set the position of the x ticks\n",
    "ax.set_xticks([p + 1.5 * width for p in pos])\n",
    "\n",
    "# Set the labels for the x ticks\n",
    "ax.set_xticklabels(kagg['Model'],fontsize=22)\n",
    "\n",
    "# Setting the x-axis and y-axis limits\n",
    "#plt.xlim(min(pos)-width, max(pos)+width*4)\n",
    "plt.ylim([0, 1] )\n",
    "\n",
    "# Adding the legend and showing the plot\n",
    "plt.legend(['Without parameters tuning', 'With parameters tuning', 'Post Score'], loc='upper left',\n",
    "          prop={'size': 18})\n",
    "plt.grid()\n",
    "plt.show()"
   ]
  }
 ],
 "metadata": {
  "kernelspec": {
   "display_name": "Python 2",
   "language": "python",
   "name": "python2"
  },
  "language_info": {
   "codemirror_mode": {
    "name": "ipython",
    "version": 2
   },
   "file_extension": ".py",
   "mimetype": "text/x-python",
   "name": "python",
   "nbconvert_exporter": "python",
   "pygments_lexer": "ipython2",
   "version": "2.7.13"
  }
 },
 "nbformat": 4,
 "nbformat_minor": 2
}
